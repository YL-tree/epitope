{
 "cells": [
  {
   "cell_type": "code",
   "execution_count": 4,
   "id": "49150b14",
   "metadata": {},
   "outputs": [],
   "source": [
    "from model_update import DDPM_Predict, Diffusion\n",
    "from data import ESM2Dataset\n",
    "import torch\n",
    "import torch.nn as nn\n",
    "import torch.nn.functional as F\n",
    "import numpy as np\n",
    "import matplotlib.pyplot as plt\n",
    "from torch.utils.data import DataLoader, Dataset\n",
    "from sklearn.model_selection import train_test_split\n",
    "from torch import optim\n",
    "from torch.nn.utils.rnn import pad_sequence\n",
    "import os\n",
    "import pandas as pd\n",
    "from tqdm import tqdm\n",
    "import math\n",
    "from scipy.stats import norm\n",
    "import random\n",
    "import pathlib\n",
    "from pathlib import Path\n",
    "import matplotlib.pyplot as plt\n",
    "from sklearn.metrics import precision_recall_curve\n",
    "random.seed(418)  # 设置种子值\n"
   ]
  },
  {
   "cell_type": "code",
   "execution_count": 5,
   "id": "84862664",
   "metadata": {},
   "outputs": [
    {
     "name": "stdout",
     "output_type": "stream",
     "text": [
      "GPU device not detected. Using CPU: cpu\n"
     ]
    }
   ],
   "source": [
    "### SET GPU OR CPU ###\n",
    "if torch.cuda.is_available():\n",
    "    device = torch.device(\"cuda\")\n",
    "    print(f\"GPU device detected: {device}\")\n",
    "else:\n",
    "    device = torch.device(\"cpu\")\n",
    "    print(f\"GPU device not detected. Using CPU: {device}\")\n",
    "    \n"
   ]
  },
  {
   "cell_type": "code",
   "execution_count": 7,
   "id": "491e62e0",
   "metadata": {},
   "outputs": [
    {
     "name": "stdout",
     "output_type": "stream",
     "text": [
      "torch.Size([4, 224, 1281])\n",
      "O09710_9\n",
      "tensor([-5.1666, -5.1666, -5.1666, -5.1666, -5.1666, -5.1666, -5.1666,  0.0000,\n",
      "         0.0000,  0.0000,  0.0000,  0.0000,  0.0000,  0.0000,  0.0000,  0.0000,\n",
      "         0.0000,  0.0000,  0.0000,  0.0000,  0.0000,  0.0000,  0.0000,  0.0000,\n",
      "         0.0000,  0.0000,  0.0000,  0.0000,  0.0000,  0.0000,  0.0000,  0.0000,\n",
      "         0.0000,  0.0000,  0.0000,  0.0000,  0.0000,  0.0000,  0.0000,  0.0000,\n",
      "         0.0000,  0.0000,  0.0000,  0.0000,  0.0000,  0.0000,  0.0000,  0.0000,\n",
      "         0.0000,  0.0000,  0.0000,  0.0000,  0.0000,  0.0000,  0.0000,  0.0000,\n",
      "         0.0000,  0.0000,  0.0000,  0.0000,  0.0000,  0.0000,  0.0000,  0.0000,\n",
      "         0.0000,  0.0000,  0.0000,  0.0000,  0.0000,  0.0000,  0.0000,  0.0000,\n",
      "         0.0000,  0.0000,  0.0000,  0.0000,  0.0000,  0.0000,  0.0000,  0.0000,\n",
      "         0.0000,  0.0000,  0.0000,  0.0000,  0.0000,  0.0000,  0.0000,  0.0000,\n",
      "         0.0000,  0.0000,  0.0000,  0.0000,  0.0000,  0.0000,  0.0000,  0.0000,\n",
      "         0.0000,  0.0000,  0.0000,  0.0000,  0.0000,  0.0000,  0.0000,  0.0000,\n",
      "         0.0000,  0.0000,  0.0000,  0.0000,  0.0000,  0.0000,  0.0000,  0.0000,\n",
      "         0.0000,  0.0000,  0.0000,  0.0000,  0.0000,  0.0000,  0.0000,  0.0000,\n",
      "         0.0000,  0.0000,  0.0000,  0.0000,  0.0000,  0.0000,  0.0000,  0.0000,\n",
      "         0.0000,  0.0000,  0.0000,  0.0000,  0.0000,  0.0000,  0.0000,  0.0000,\n",
      "         0.0000,  0.0000,  0.0000,  0.0000,  0.0000,  0.0000,  0.0000,  0.0000,\n",
      "         0.0000,  0.0000,  0.0000,  0.0000,  0.0000,  0.0000,  0.0000,  0.0000,\n",
      "         0.0000,  0.0000,  0.0000,  0.0000,  0.0000,  0.0000,  0.0000,  0.0000,\n",
      "         0.0000,  0.0000,  0.0000,  0.0000,  0.0000,  0.0000,  0.0000,  0.0000,\n",
      "         0.0000,  0.0000,  0.0000,  0.0000,  0.0000,  0.0000,  0.0000,  0.0000,\n",
      "         0.0000,  0.0000,  0.0000,  0.0000,  0.0000,  0.0000,  0.0000,  0.0000,\n",
      "         0.0000,  0.0000,  0.0000,  0.0000,  0.0000,  0.0000,  0.0000,  0.0000,\n",
      "         0.0000,  0.0000,  0.0000,  0.0000,  0.0000,  0.0000,  0.0000,  0.0000,\n",
      "         0.0000,  0.0000,  0.0000,  0.0000,  0.0000,  0.0000,  0.0000,  0.0000,\n",
      "         0.0000,  0.0000,  0.0000,  0.0000,  0.0000,  0.0000,  0.0000,  0.0000,\n",
      "         0.0000,  0.0000,  0.0000,  0.0000,  0.0000,  0.0000,  0.0000,  0.0000])\n",
      "tensor([ True,  True,  True,  True,  True,  True,  True, False, False, False,\n",
      "        False, False, False, False, False, False, False, False, False, False,\n",
      "        False, False, False, False, False, False, False, False, False, False,\n",
      "        False, False, False, False, False, False, False, False, False, False,\n",
      "        False, False, False, False, False, False, False, False, False, False,\n",
      "        False, False, False, False, False, False, False, False, False, False,\n",
      "        False, False, False, False, False, False, False, False, False, False,\n",
      "        False, False, False, False, False, False, False, False, False, False,\n",
      "        False, False, False, False, False, False, False, False, False, False,\n",
      "        False, False, False, False, False, False, False, False, False, False,\n",
      "        False, False, False, False, False, False, False, False, False, False,\n",
      "        False, False, False, False, False, False, False, False, False, False,\n",
      "        False, False, False, False, False, False, False, False, False, False,\n",
      "        False, False, False, False, False, False, False, False, False, False,\n",
      "        False, False, False, False, False, False, False, False, False, False,\n",
      "        False, False, False, False, False, False, False, False, False, False,\n",
      "        False, False, False, False, False, False, False, False, False, False,\n",
      "        False, False, False, False, False, False, False, False, False, False,\n",
      "        False, False, False, False, False, False, False, False, False, False,\n",
      "        False, False, False, False, False, False, False, False, False, False,\n",
      "        False, False, False, False, False, False, False, False, False, False,\n",
      "        False, False, False, False, False, False, False, False, False, False,\n",
      "        False, False, False, False])\n"
     ]
    },
    {
     "data": {
      "image/png": "[encoded data removed]",
      "text/plain": [
       "<Figure size 640x480 with 1 Axes>"
      ]
     },
     "metadata": {},
     "output_type": "display_data"
    }
   ],
   "source": [
    "# 获取所有ESM编码文件路径列表\n",
    "esm_files = list(Path(\"data/esm_encodings\").glob(\"*.pt\"))\n",
    "\n",
    "# 划分训练集和测试集\n",
    "train_files, test_files = train_test_split(esm_files, test_size=0.2, random_state=42)\n",
    "train_ESM_2_dataset = ESM2Dataset(train_files)\n",
    "test_ESM_2_dataset = ESM2Dataset(test_files)\n",
    "\n",
    "\n",
    "def collate_fn(batch):\n",
    "    \"\"\"\n",
    "    输入: batch 是一个列表，包含若干个 (acc, esm_embedding, epitope_label)\n",
    "    输出: padded 的 batch，包括 mask\n",
    "    \"\"\"\n",
    "    accs, embeddings, labels = zip(*batch)\n",
    "\n",
    "    # pad_sequence 默认按第一维对齐，batch_first=True 输出形状为 (B, L, D)\n",
    "    padded_embeddings = pad_sequence(embeddings, batch_first=True)  # (B, L, D)\n",
    "    padded_labels = pad_sequence(labels, batch_first=True)          # (B, L)\n",
    "\n",
    "    # 创建 attention mask：True 表示有效位置，False 表示padding\n",
    "    attention_mask = torch.zeros_like(padded_labels, dtype=torch.bool)\n",
    "    for i, label in enumerate(labels):\n",
    "        attention_mask[i, :label.size(0)] = True\n",
    "\n",
    "    return accs, padded_embeddings, padded_labels, attention_mask\n",
    "    \n",
    "train_ESM_2_dataloader = DataLoader(train_ESM_2_dataset, batch_size=8, shuffle=True, collate_fn=collate_fn)\n",
    "test_ESM_2_dataloader = DataLoader(test_ESM_2_dataset, batch_size=8, shuffle=False, collate_fn=collate_fn)\n",
    "\n",
    "\n",
    "for acc, esm, epitope, attention_mask in test_ESM_2_dataloader:\n",
    "    print(esm.shape)\n",
    "    print(acc[0])\n",
    "    print(epitope[0])\n",
    "    print(attention_mask[0])\n",
    "    \n",
    "    plt.plot(epitope[0])\n",
    "    break"
   ]
  },
  {
   "cell_type": "code",
   "execution_count": null,
   "id": "fad9aa02",
   "metadata": {},
   "outputs": [],
   "source": [
    "# checkpoint\n",
    "checkpoint_dir = './checkpoints'\n",
    "if not os.path.exists(checkpoint_dir):\n",
    "    os.makedirs(checkpoint_dir)\n",
    "\n",
    "def save_checkpoint(epoch, model, optimizer, loss, checkpoint_dir):\n",
    "    checkpoint_path = os.path.join(checkpoint_dir, f'checkpoint_epoch_{epoch}.pth')\n",
    "    torch.save({\n",
    "        'epoch': epoch,\n",
    "        'model_state_dict': model.state_dict(),\n",
    "        'optimizer_state_dict': optimizer.state_dict(),\n",
    "        'loss': loss,\n",
    "    }, checkpoint_path)\n",
    "    print(f'Checkpoint saved to {checkpoint_path}')\n",
    "\n",
    "def load_checkpoint(model, optimizer, checkpoint_path):\n",
    "    checkpoint = torch.load(checkpoint_path, map_location=torch.device('cpu'))\n",
    "    model.load_state_dict(checkpoint['model_state_dict'])\n",
    "    optimizer.load_state_dict(checkpoint['optimizer_state_dict'])\n",
    "    epoch = checkpoint['epoch']\n",
    "    loss = checkpoint['loss']\n",
    "    return model, optimizer, epoch, loss"
   ]
  },
  {
   "cell_type": "code",
   "execution_count": null,
   "id": "d32c89b3",
   "metadata": {},
   "outputs": [],
   "source": [
    "# model = BepiPredDDPM()\n",
    "# diffusion = Diffusion()\n",
    "# optimizer = optim.Adam(model.parameters(), lr=0.001)\n"
   ]
  },
  {
   "cell_type": "code",
   "execution_count": null,
   "id": "a0430312",
   "metadata": {},
   "outputs": [],
   "source": [
    "# def train(model, dataloader, optimizer, steps=1000, device=device, epochs=10):\n",
    "#     model.train()\n",
    "#     epochs_losses = []  # 记录每个epoch的平均损失\n",
    "\n",
    "#     for epoch in range(epochs):\n",
    "#         progress_bar = tqdm(train_dataloader, desc=f\"Epoch {epoch + 1}/{epochs}\", leave=False)\n",
    "#         loss_record= []\n",
    "#         for x0, esm_len, epitope_labels, epitope_len in progress_bar:  # x0: 真实ESM嵌入 [B, L, D]\n",
    "#             x0 = x0.to(device)\n",
    "#             epitope_labels = epitope_labels.to(device)\n",
    "            \n",
    "#             # 1. 随机采样时间步和噪声\n",
    "#             t = torch.randint(0, steps, (x0.size(0),), device=device)\n",
    "#             noise = torch.randn_like(x0)\n",
    "            \n",
    "#             # 2. 前向加噪（根据噪声调度）\n",
    "#             xt = diffusion.q_sample(x0, t)\n",
    "#             t = t.float()\n",
    "\n",
    "#             # 3. 预测噪声并计算损失\n",
    "#             pred_noise, epitope_prob = model(xt, t)\n",
    "\n",
    "#             # 4. 计算表位分类损失\n",
    "#             loss_diffusion = F.mse_loss(pred_noise, noise)\n",
    "#             loss_epitope = F.binary_cross_entropy(epitope_prob, epitope_labels.unsqueeze(-1))  # 需提供真实表位标签\n",
    "#             total_loss = 0.3 * loss_diffusion + 0.7 * loss_epitope  # 加权平衡\n",
    "            \n",
    "#             # 4. 反向传播\n",
    "#             optimizer.zero_grad()\n",
    "#             total_loss.backward()\n",
    "#             loss_record.append(total_loss.item())\n",
    "#             optimizer.step()\n",
    "            \n",
    "#             # 5. 记录损失\n",
    "#             progress_bar.set_postfix({\"loss\": total_loss.item()})\n",
    "#             epoch_loss = torch.tensor(loss_record).mean().item()\n",
    "\n",
    "#         epochs_losses.append(epoch_loss)\n",
    "#         # 每15个epoch保存一次checkpoint\n",
    "#         if (epoch + 1) % 5 == 0:\n",
    "#             save_checkpoint(epoch + 1, model, optimizer, epoch_loss, checkpoint_dir)\n",
    "#             print(f\"Epoch {epoch + 1}, Loss_Mean: {epoch_loss}\", end=\"\\r\")\n",
    "#             plt.plot(epochs_losses)\n",
    "#             plt.xlabel('Epochs')\n",
    "#             plt.ylabel('Loss')\n",
    "#             plt.title('Training Loss')\n",
    "#             plt.show()\n",
    "\n"
   ]
  },
  {
   "cell_type": "code",
   "execution_count": null,
   "id": "db84357f",
   "metadata": {},
   "outputs": [],
   "source": [
    "# def eval_model(model, dataloader, device=device):\n",
    "#     probs, labels = [], []\n",
    "#     model.eval()\n",
    "#     with torch.no_grad():\n",
    "#         for x0, esm_len, epitope_labels, epitope_len in dataloader:\n",
    "#             _, epitope_prob = model(x0.to(device), torch.zeros(x0.size(0)).to(device))\n",
    "#             probs.append(epitope_prob.squeeze(-1).cpu())\n",
    "#             labels.append(epitope_labels.cpu())\n",
    "            \n",
    "    \n",
    "#     probs = torch.cat(probs).numpy()\n",
    "#     labels = torch.cat(labels).numpy()\n",
    "#     # precision, recall, _ = precision_recall_curve(labels, probs)\n",
    "#     # pr_auc = auc(recall, precision)  # 更关注正类的指标\n",
    "#     return probs, labels"
   ]
  },
  {
   "cell_type": "code",
   "execution_count": null,
   "id": "db7bb686",
   "metadata": {},
   "outputs": [],
   "source": [
    "# train(model, train_dataloader, optimizer=optimizer)"
   ]
  },
  {
   "cell_type": "code",
   "execution_count": null,
   "id": "70bee115",
   "metadata": {},
   "outputs": [],
   "source": [
    "# probs, labels = eval_model(model, test_dataloader)"
   ]
  },
  {
   "cell_type": "code",
   "execution_count": null,
   "id": "5caa8a4c",
   "metadata": {},
   "outputs": [],
   "source": [
    "def train(model, dataloader, optimizer, steps=1000, device=device, epochs=10):\n",
    "    model.train()\n",
    "    epochs_losses = []  # 记录每个epoch的平均损失\n",
    "\n",
    "    for epoch in range(epochs):\n",
    "        progress_bar = tqdm(train_dataloader, desc=f\"Epoch {epoch + 1}/{epochs}\", leave=False)\n",
    "        loss_record= []\n",
    "        for esm, esm_len, mask, mask_len in progress_bar:  # esm: 真实ESM嵌入 [B, L, D]\n",
    "            esm = esm.to(device)\n",
    "            mask = mask.to(device)\n",
    "            \n",
    "            # print(mask.shape)\n",
    "            # print(esm.shape)\n",
    "            # 1. 随机采样时间步和噪声\n",
    "            t = torch.randint(0, steps, (mask.size(0),), device=device)\n",
    "            noise = torch.randn_like(mask)\n",
    "            \n",
    "            # 2. 前向加噪（根据噪声调度）\n",
    "            noisy_mask = diffusion.q_sample(mask.unsqueeze(-1), t)\n",
    "            t = t.float()\n",
    "\n",
    "            # 3. 预测噪声并计算损失\n",
    "            pred_noise = model(noisy_mask, esm, t)\n",
    "\n",
    "            # 4. 计算表位分类损失\n",
    "            loss = F.mse_loss(pred_noise, noise)\n",
    "            \n",
    "            # 4. 反向传播\n",
    "            optimizer.zero_grad()\n",
    "            loss.backward()\n",
    "            loss_record.append(loss.item())\n",
    "            optimizer.step()\n",
    "            \n",
    "            # 5. 记录损失\n",
    "            progress_bar.set_postfix({\"loss\": loss.item()})\n",
    "            epoch_loss = torch.tensor(loss_record).mean().item()\n",
    "\n",
    "        epochs_losses.append(epoch_loss)\n",
    "        # 每15个epoch保存一次checkpoint\n",
    "        if (epoch + 1) % 5 == 0:\n",
    "            save_checkpoint(epoch + 1, model, optimizer, epoch_loss, checkpoint_dir)\n",
    "            print(f\"Epoch {epoch + 1}, Loss_Mean: {epoch_loss}\", end=\"\\r\")\n",
    "            plt.plot(epochs_losses)\n",
    "            plt.xlabel('Epochs')\n",
    "            plt.ylabel('Loss')\n",
    "            plt.title('Training Loss')\n",
    "            plt.show()\n",
    "\n"
   ]
  },
  {
   "cell_type": "code",
   "execution_count": null,
   "id": "cffdd1f1",
   "metadata": {},
   "outputs": [
    {
     "name": "stderr",
     "output_type": "stream",
     "text": [
      "                                                                    \r"
     ]
    },
    {
     "name": "stdout",
     "output_type": "stream",
     "text": [
      "Checkpoint saved to ./checkpoints/checkpoint_epoch_5.pth\n",
      "Epoch 5, Loss_Mean: 1.3805572986602783\r"
     ]
    },
    {
     "data": {
      "image/png": "[encoded data removed]",
      "text/plain": [
       "<Figure size 640x480 with 1 Axes>"
      ]
     },
     "metadata": {},
     "output_type": "display_data"
    },
    {
     "name": "stderr",
     "output_type": "stream",
     "text": [
      "                                                                     \r"
     ]
    },
    {
     "name": "stdout",
     "output_type": "stream",
     "text": [
      "Checkpoint saved to ./checkpoints/checkpoint_epoch_10.pth\n",
      "Epoch 10, Loss_Mean: 1.206136703491211\r"
     ]
    },
    {
     "data": {
      "image/png": "[encoded data removed]",
      "text/plain": [
       "<Figure size 640x480 with 1 Axes>"
      ]
     },
     "metadata": {},
     "output_type": "display_data"
    }
   ],
   "source": [
    "DDPM_Predicet_model = DDPM_Predict()\n",
    "diffusion = Diffusion()\n",
    "optimizer = optim.Adam(DDPM_Predicet_model.parameters(), lr=0.001)\n",
    "train(DDPM_Predicet_model, train_ESM_2_dataloader, optimizer)\n"
   ]
  },
  {
   "cell_type": "code",
   "execution_count": null,
   "id": "c54be3f4",
   "metadata": {},
   "outputs": [],
   "source": [
    "@torch.no_grad()\n",
    "def ddpm_sampling(model, esm_seq, num_steps=1000):\n",
    "    \"\"\"\n",
    "    Args:\n",
    "        model: 训练好的 EpitopeTransformerDDPM 模型\n",
    "        scheduler: 噪声调度器（如 SimpleNoiseScheduler）\n",
    "        esm_seq: (B, L) 蛋白质序列\n",
    "        bepi_scores: (B, L) BepiPred得分（0~1）\n",
    "        num_steps: T，采样步数\n",
    "        \n",
    "    Returns:\n",
    "        x0: (B, L) 最终生成的掩码（0~1）\n",
    "    \"\"\"\n",
    "\n",
    "    B, L,  _= esm_seq.shape\n",
    "    x_t = torch.randn(B, L, 1).to(device)  # 初始纯噪声\n",
    "\n",
    "    for t_index in range(num_steps - 1, -1, -1):\n",
    "        t = torch.full((B,), t_index, device=device, dtype=torch.long)\n",
    "        # 模型预测噪声\n",
    "        pred_noise = model(x_t, esm_seq, t).unsqueeze(-1)  # (B, L, 1)\n",
    "\n",
    "        x_t = diffusion.p_sample(x_t, pred_noise, t, t_index)\n",
    "        \n",
    "    # 输出最终 x0\n",
    "    x0 = x_t.squeeze(-1)  # (B, L)\n",
    "    x0 = torch.sigmoid(x0)    # 保证在 [0,1] 概率范围（推荐）\n",
    "\n",
    "    return x0  # 每个位点为表位的概率分布\n",
    "\n"
   ]
  },
  {
   "cell_type": "code",
   "execution_count": null,
   "id": "2fdc6867",
   "metadata": {},
   "outputs": [],
   "source": [
    "def sample(test_dataloader):\n",
    "    model.eval()\n",
    "    with torch.no_grad():\n",
    "        for esm, esm_len, mask, mask_len in test_dataloader:\n",
    "            esm = esm.to(device)\n",
    "            mask = mask.to(device)\n",
    "            pred_mask = ddpm_sampling(model, esm)\n",
    "            pred_mask = pred_mask.cpu().numpy()\n",
    "    return mask, pred_mask\n",
    "mask, pred_mask = sample(test_ESM_2_dataloader)\n"
   ]
  },
  {
   "cell_type": "code",
   "execution_count": null,
   "id": "03b43aa6",
   "metadata": {},
   "outputs": [],
   "source": []
  }
 ],
 "metadata": {
  "kernelspec": {
   "display_name": "base",
   "language": "python",
   "name": "python3"
  },
  "language_info": {
   "codemirror_mode": {
    "name": "ipython",
    "version": 3
   },
   "file_extension": ".py",
   "mimetype": "text/x-python",
   "name": "python",
   "nbconvert_exporter": "python",
   "pygments_lexer": "ipython3",
   "version": "3.12.7"
  }
 },
 "nbformat": 4,
 "nbformat_minor": 5
}
